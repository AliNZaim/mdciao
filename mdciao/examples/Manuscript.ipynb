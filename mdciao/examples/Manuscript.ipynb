{
 "cells": [
  {
   "cell_type": "code",
   "execution_count": null,
   "metadata": {},
   "outputs": [],
   "source": [
    "import mdtraj as md\n",
    "import mdciao"
   ]
  },
  {
   "cell_type": "markdown",
   "metadata": {},
   "source": [
    "### Download example data and load into the namespace"
   ]
  },
  {
   "cell_type": "code",
   "execution_count": null,
   "metadata": {},
   "outputs": [],
   "source": [
    "mdciao.examples.fetch_example_data()\n",
    "traj = md.load(\"mdciao_example/traj.xtc\",top=\"mdciao_example/prot.pdb\")"
   ]
  },
  {
   "cell_type": "markdown",
   "metadata": {},
   "source": [
    "### Create consensus labeler objects"
   ]
  },
  {
   "cell_type": "code",
   "execution_count": null,
   "metadata": {},
   "outputs": [],
   "source": [
    "GPCR = mdciao.nomenclature.LabelerGPCR(\"adrb2_human\")\n",
    "CGN = mdciao.nomenclature.LabelerCGN(\"3SN6\")"
   ]
  },
  {
   "cell_type": "markdown",
   "metadata": {},
   "source": [
    "### Guess molecular fragments\n",
    "This would be done anyway by the `mdciao.cli.interface` call in the cell below, here we do it have the fragments defined in the namespace"
   ]
  },
  {
   "cell_type": "code",
   "execution_count": null,
   "metadata": {},
   "outputs": [],
   "source": [
    "fragments = mdciao.fragments.get_fragments(traj.top);\n",
    "fragment_names = [\"Galpha\", \"Gbeta\", \"Ggamma\",\"B2AR\",\"P0G\"]"
   ]
  },
  {
   "cell_type": "markdown",
   "metadata": {},
   "source": [
    "### Compute G$\\alpha$-B2AR interface\n",
    "Using the above fragment definitions"
   ]
  },
  {
   "cell_type": "code",
   "execution_count": null,
   "metadata": {},
   "outputs": [],
   "source": [
    "intf = mdciao.cli.interface(traj,\n",
    "                            title=\"3SN6 beta2AR-Galpha interface\",\n",
    "                            fragments=fragments, fragment_names = fragment_names,                             \n",
    "                            frag_idxs_group_1=[0], \n",
    "                            frag_idxs_group_2=[3],\n",
    "                            GPCR_uniprot=GPCR, CGN_PDB=CGN,\n",
    "                            accept_guess=True, no_disk=True, figures=False)"
   ]
  },
  {
   "cell_type": "markdown",
   "metadata": {},
   "source": [
    "### Plot each residues's participation in the interface"
   ]
  },
  {
   "cell_type": "code",
   "execution_count": null,
   "metadata": {},
   "outputs": [],
   "source": [
    "ifig = intf.plot_frequency_sums_as_bars(3.5, title_str = intf.name, \n",
    "                                 list_by_interface=True, \n",
    "                                 interface_vline=True);\n",
    "ifig.figure.savefig(\"intf.svg\")"
   ]
  },
  {
   "cell_type": "markdown",
   "metadata": {},
   "source": [
    "### Plot contact matrix"
   ]
  },
  {
   "cell_type": "code",
   "execution_count": null,
   "metadata": {},
   "outputs": [],
   "source": [
    "ifig = intf.plot_interface_frequency_matrix(3.5, grid=True, pixelsize=.5);\n",
    "ifig[0].savefig(\"matrix.svg\")"
   ]
  },
  {
   "cell_type": "markdown",
   "metadata": {},
   "source": [
    "### Flareplot\n",
    "We combine a lot of information into one single flareplot:  \n",
    "* the molecular topology with sub-fragments and consensus labels, \n",
    "* the secondary structure, \n",
    "* the individual contact-pairs \n",
    "* the participation of each residue in the interface."
   ]
  },
  {
   "cell_type": "code",
   "execution_count": null,
   "metadata": {},
   "outputs": [],
   "source": [
    "ifig, iax = intf.plot_freqs_as_flareplot(3.5, \n",
    "                                         fragments=fragments, fragment_names = fragment_names,  \n",
    "                                         scheme=\"consensus\", consensus_maps=[GPCR, CGN], \n",
    "                                         aura=intf.frequency_sum_per_residue_idx_dict(3.5,return_array=True),\n",
    "                                         SS=True)"
   ]
  },
  {
   "cell_type": "markdown",
   "metadata": {},
   "source": [
    "### Coarse-Grained Frequencies and Flareplots"
   ]
  },
  {
   "cell_type": "code",
   "execution_count": null,
   "metadata": {},
   "outputs": [],
   "source": [
    "intf.frequency_as_contact_matrix_CG(3.5, fragments=fragments, fragment_names = fragment_names,\n",
    "                                    consensus_labelers=[GPCR, CGN],\n",
    "                                    interface=True).round(1).replace(0,\"\")  \n",
    "\n",
    "ifig, iax = intf.plot_freqs_as_flareplot(3.5, \n",
    "                                         fragments=fragments, fragment_names = fragment_names,  \n",
    "                                         consensus_maps=[GPCR, CGN],                                         \n",
    "                                         coarse_grain=True,\n",
    "                                        )\n"
   ]
  },
  {
   "cell_type": "markdown",
   "metadata": {},
   "source": [
    "### Grab a representative frame\n",
    "This frame will be used to plot the interface frequencies as a 3D heatmap (see `frequency_to_bfactor` below)."
   ]
  },
  {
   "cell_type": "code",
   "execution_count": null,
   "metadata": {},
   "outputs": [],
   "source": [
    "repframe = intf.repframes(return_traj=True)[-1][0]"
   ]
  },
  {
   "cell_type": "markdown",
   "metadata": {},
   "source": [
    "### Save the interface as a heatmap and view externally"
   ]
  },
  {
   "cell_type": "code",
   "execution_count": null,
   "metadata": {},
   "outputs": [],
   "source": [
    "intf.frequency_to_bfactor(3.5, pdbfile=\"interface_heatmap.pdb\", \n",
    "                          geom=repframe, \n",
    "                          interface_sign=True\n",
    "                         );"
   ]
  },
  {
   "cell_type": "markdown",
   "metadata": {},
   "source": [
    "### Save all mdciao objects for later reuse\n",
    "We can save all mdciao objects to numpy .npy (pickle) files and later reload them without having to compute everything again."
   ]
  },
  {
   "cell_type": "code",
   "execution_count": null,
   "metadata": {},
   "outputs": [],
   "source": [
    "import numpy as np\n",
    "np.save(\"GPCR.npy\", GPCR)\n",
    "np.save(\"CGN.npy\",CGN)\n",
    "np.save(\"intf.npy\",intf)"
   ]
  },
  {
   "cell_type": "markdown",
   "metadata": {},
   "source": [
    "### Compare to a different setup using violin plots"
   ]
  },
  {
   "cell_type": "code",
   "execution_count": null,
   "metadata": {},
   "outputs": [],
   "source": [
    "mdciao.examples.fetch_example_data(url='http://proteinformatics.org/mdciao/mdciao_example2.zip')\n",
    "traj2 = md.load(\"mdciao_example2/traj2.xtc\",top=\"mdciao_example2/prot2.pdb\")"
   ]
  },
  {
   "cell_type": "code",
   "execution_count": null,
   "metadata": {},
   "outputs": [],
   "source": [
    "intf_site = {\"name\":\"intf\", \n",
    "             \"pairs\": {\"residx\" : intf.res_idxs_pairs}}"
   ]
  },
  {
   "cell_type": "code",
   "execution_count": null,
   "metadata": {},
   "outputs": [],
   "source": [
    "site1 = mdciao.cli.sites([intf_site], traj2, \n",
    "                  no_disk=True, figures=False, \n",
    "                  #fragments=fragments, fragment_names = fragment_names,                             \n",
    "                  GPCR_uniprot=GPCR, CGN_PDB=CGN,\n",
    "                  accept_guess=True)[\"intf\"]"
   ]
  },
  {
   "cell_type": "code",
   "execution_count": null,
   "metadata": {},
   "outputs": [],
   "source": [
    "res = mdciao.plots.compare_violins({\n",
    "                            \"dataset 1\": intf, \n",
    "                            \"dataset 2\": site1}, \n",
    "                            defrag=None,        #keep fragment names\n",
    "                            key_separator=None, #keep residue label order\n",
    "                            sort_by=\"residue\",\n",
    "                            ctc_cutoff_Ang=4, \n",
    "                            remove_identities=True,\n",
    "                            identity_cutoff=.90,\n",
    "                            ymax=20, \n",
    "                            colors=\"Set2\"\n",
    "                            );"
   ]
  }
 ],
 "metadata": {
  "kernelspec": {
   "display_name": "Python 3 (ipykernel)",
   "language": "python",
   "name": "python3"
  },
  "language_info": {
   "codemirror_mode": {
    "name": "ipython",
    "version": 3
   },
   "file_extension": ".py",
   "mimetype": "text/x-python",
   "name": "python",
   "nbconvert_exporter": "python",
   "pygments_lexer": "ipython3",
   "version": "3.8.12"
  }
 },
 "nbformat": 4,
 "nbformat_minor": 4
}
