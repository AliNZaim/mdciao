{
 "cells": [
  {
   "cell_type": "markdown",
   "id": "fd149d98",
   "metadata": {},
   "source": [
    "# Use Consensus Labels as Multiple-Sequence-Alignment (MSA)\n",
    "\n",
    "In this notebook, we will use `mdciao` and the consensus labels of the [GPCRdb](https://gpcrdb.org) to structurally align four GPCR structures of four receptors with low sequence identity:\n",
    "\n",
    "* opsin, `OPS` in the rest of the notebook\n",
    "* beta2 adrenergic receptor, `B2AR` in the rest of the notebook\n",
    "* mu-opioid receptor, `MUOR` in the rest of the notebook\n",
    "* dopamine D1 receptor, `DOP` in the rest of the notebook\n",
    "\n",
    "Whereas we use directly PDB structures, the point should be clear that the MSA works on any arbitary geometries and topologies that can be imported into the notebook, **in particular user provided trajectories**."
   ]
  },
  {
   "cell_type": "code",
   "execution_count": 1,
   "id": "efd17285",
   "metadata": {},
   "outputs": [
    {
     "data": {
      "application/vnd.jupyter.widget-view+json": {
       "model_id": "6cb6f97fd6ac40869a65c21b1df76b46",
       "version_major": 2,
       "version_minor": 0
      },
      "text/plain": []
     },
     "metadata": {},
     "output_type": "display_data"
    }
   ],
   "source": [
    "import mdciao\n",
    "import nglview\n",
    "import matplotlib"
   ]
  },
  {
   "cell_type": "markdown",
   "id": "b8043c5d",
   "metadata": {},
   "source": [
    "# Load PDB  Structures into the Notebook"
   ]
  },
  {
   "cell_type": "code",
   "execution_count": 2,
   "id": "b4f92862",
   "metadata": {},
   "outputs": [
    {
     "name": "stdout",
     "output_type": "stream",
     "text": [
      "Checking https://files.rcsb.org/download/3CAP.pdb ...Please cite the following 3rd party publication:\n",
      " * Crystal structure of the ligand-free G-protein-coupled receptor opsin\n",
      "   Park, J.H. et al., Nature 2008\n",
      "   https://doi.org/10.1038/nature07063\n",
      "Checking https://files.rcsb.org/download/3SN6.pdb ...Please cite the following 3rd party publication:\n",
      " * Crystal structure of the beta2 adrenergic receptor-Gs protein complex\n",
      "   Rasmussen, S.G. et al., Nature 2011\n",
      "   https://doi.org/10.1038/nature10361\n",
      "Checking https://files.rcsb.org/download/6DDF.pdb ..."
     ]
    },
    {
     "name": "stderr",
     "output_type": "stream",
     "text": [
      "/home/guille/miniconda3/lib/python3.11/site-packages/mdtraj/formats/pdb/pdbfile.py:206: UserWarning: Unlikely unit cell vectors detected in PDB file likely resulting from a dummy CRYST1 record. Discarding unit cell vectors.\n",
      "  warnings.warn(\n"
     ]
    },
    {
     "name": "stdout",
     "output_type": "stream",
     "text": [
      "Please cite the following 3rd party publication:\n",
      " * Structure of the mu-opioid receptor-Giprotein complex.\n",
      "   Koehl, A. et al., Nature 2018\n",
      "   https://doi.org/10.1038/s41586-018-0219-7\n",
      "Checking https://files.rcsb.org/download/7CKW.pdb ...Please cite the following 3rd party publication:\n",
      " * Ligand recognition and allosteric regulation of DRD1-Gs signaling complexes.\n",
      "   Xiao, P. et al., Cell 2021\n",
      "   https://doi.org/10.1016/j.cell.2021.01.028\n"
     ]
    }
   ],
   "source": [
    "pdbs = {\"OPS\"  : mdciao.cli.pdb(\"3CAP\"), \n",
    "        \"B2AR\" : mdciao.cli.pdb(\"3SN6\"), \n",
    "        \"MUOR\" : mdciao.cli.pdb(\"6DDF\"),\n",
    "        \"DOP\"  : mdciao.cli.pdb(\"7CKW\")}"
   ]
  },
  {
   "cell_type": "markdown",
   "id": "8326018e",
   "metadata": {},
   "source": [
    "# Load Consensus Labels from the GPCRdb into the Notebook"
   ]
  },
  {
   "cell_type": "code",
   "execution_count": 3,
   "id": "5b2f4abe",
   "metadata": {},
   "outputs": [
    {
     "name": "stdout",
     "output_type": "stream",
     "text": [
      "No local file ./opsd_bovin.xlsx found, checking online in\n",
      "https://gpcrdb.org/services/residues/extended/opsd_bovin ...done!\n",
      "Please cite the following reference to the GPCRdb:\n",
      " * Kooistra et al, (2021) GPCRdb in 2021: Integrating GPCR sequence, structure and function\n",
      "   Nucleic Acids Research 49, D335--D343\n",
      "   https://doi.org/10.1093/nar/gkaa1080\n",
      "For more information, call mdciao.nomenclature.references()\n",
      "No local file ./adrb2_human.xlsx found, checking online in\n",
      "https://gpcrdb.org/services/residues/extended/adrb2_human ..."
     ]
    },
    {
     "name": "stderr",
     "output_type": "stream",
     "text": [
      "/home/guille/Programs/mdciao/mdciao/nomenclature/nomenclature.py:386: FutureWarning: Passing literal json to 'read_json' is deprecated and will be removed in a future version. To read from a literal string, wrap it in a 'StringIO' object.\n",
      "  df = _read_json(a.text)\n"
     ]
    },
    {
     "name": "stdout",
     "output_type": "stream",
     "text": [
      "done!\n",
      "Please cite the following reference to the GPCRdb:\n",
      " * Kooistra et al, (2021) GPCRdb in 2021: Integrating GPCR sequence, structure and function\n",
      "   Nucleic Acids Research 49, D335--D343\n",
      "   https://doi.org/10.1093/nar/gkaa1080\n",
      "For more information, call mdciao.nomenclature.references()\n",
      "No local file ./oprm_mouse.xlsx found, checking online in\n",
      "https://gpcrdb.org/services/residues/extended/oprm_mouse ..."
     ]
    },
    {
     "name": "stderr",
     "output_type": "stream",
     "text": [
      "/home/guille/Programs/mdciao/mdciao/nomenclature/nomenclature.py:386: FutureWarning: Passing literal json to 'read_json' is deprecated and will be removed in a future version. To read from a literal string, wrap it in a 'StringIO' object.\n",
      "  df = _read_json(a.text)\n"
     ]
    },
    {
     "name": "stdout",
     "output_type": "stream",
     "text": [
      "done!\n",
      "Please cite the following reference to the GPCRdb:\n",
      " * Kooistra et al, (2021) GPCRdb in 2021: Integrating GPCR sequence, structure and function\n",
      "   Nucleic Acids Research 49, D335--D343\n",
      "   https://doi.org/10.1093/nar/gkaa1080\n",
      "For more information, call mdciao.nomenclature.references()\n",
      "No local file ./DRD1_HUMAN.xlsx found, checking online in\n",
      "https://gpcrdb.org/services/residues/extended/drd1_human ..."
     ]
    },
    {
     "name": "stderr",
     "output_type": "stream",
     "text": [
      "/home/guille/Programs/mdciao/mdciao/nomenclature/nomenclature.py:386: FutureWarning: Passing literal json to 'read_json' is deprecated and will be removed in a future version. To read from a literal string, wrap it in a 'StringIO' object.\n",
      "  df = _read_json(a.text)\n"
     ]
    },
    {
     "name": "stdout",
     "output_type": "stream",
     "text": [
      "done!\n",
      "Please cite the following reference to the GPCRdb:\n",
      " * Kooistra et al, (2021) GPCRdb in 2021: Integrating GPCR sequence, structure and function\n",
      "   Nucleic Acids Research 49, D335--D343\n",
      "   https://doi.org/10.1093/nar/gkaa1080\n",
      "For more information, call mdciao.nomenclature.references()\n"
     ]
    },
    {
     "name": "stderr",
     "output_type": "stream",
     "text": [
      "/home/guille/Programs/mdciao/mdciao/nomenclature/nomenclature.py:386: FutureWarning: Passing literal json to 'read_json' is deprecated and will be removed in a future version. To read from a literal string, wrap it in a 'StringIO' object.\n",
      "  df = _read_json(a.text)\n"
     ]
    }
   ],
   "source": [
    "maps = { \"OPS\": mdciao.nomenclature.LabelerGPCR(\"opsd_bovin\"),\n",
    "        \"B2AR\": mdciao.nomenclature.LabelerGPCR(\"adrb2_human\"),\n",
    "        \"MUOR\": mdciao.nomenclature.LabelerGPCR(\"oprm_mouse\"), \n",
    "        \"DOP\" : mdciao.nomenclature.LabelerGPCR(\"DRD1_HUMAN\")\n",
    "       }"
   ]
  },
  {
   "cell_type": "markdown",
   "id": "63040ed8",
   "metadata": {},
   "source": [
    "# Use the Consensus Labels to Trim down the PDBs to the just Receptors\n",
    "This can happen regardless of chain definitions and co-crystalized entities"
   ]
  },
  {
   "cell_type": "code",
   "execution_count": 4,
   "id": "4d15ec10",
   "metadata": {},
   "outputs": [
    {
     "name": "stdout",
     "output_type": "stream",
     "text": [
      "OPS\n",
      "Auto-detected fragments with method 'resSeq'\n",
      "fragment      0 with    326 AAs     MET1 (   0) -   ASN326 (325 ) (0) \n",
      "fragment      1 with    326 AAs     MET1 ( 326) -   ASN326 (651 ) (1) \n",
      "fragment      2 with      4 AAs     NAG1 ( 652) -     BMA4 (655 ) (2) \n",
      "fragment      3 with      6 AAs     NAG1 ( 656) -     BMA4 (661 ) (3)  resSeq jumps\n",
      "fragment      4 with      2 AAs     NAG1 ( 662) -     NAG2 (663 ) (4) \n",
      "fragment      5 with      4 AAs   BGL801 ( 664) -   BGL804 (667 ) (5) \n",
      "fragment      6 with      1 AAs   PLM901 ( 668) -   PLM901 (668 ) (6) \n",
      "fragment      7 with      2 AAs   BGL805 ( 669) -   BGL806 (670 ) (7) \n",
      "fragment      8 with      1 AAs   PLM902 ( 671) -   PLM902 (671 ) (8) \n",
      "fragment      9 with     10 AAs   HOH902 ( 672) -   HOH907 (681 ) (9)  resSeq jumps\n",
      "The GPCR-labels align best with fragments: [0] (first-last: MET1-ASN326).\n",
      "\n",
      "B2AR\n",
      "Auto-detected fragments with method 'resSeq'\n",
      "fragment      0 with     51 AAs     THR9 (   0) -    GLN59 (50  ) (0) \n",
      "fragment      1 with    115 AAs    LYS88 (  51) -   VAL202 (165 ) (1) \n",
      "fragment      2 with     51 AAs   SER205 ( 166) -   MET255 (216 ) (2) \n",
      "fragment      3 with    132 AAs   THR263 ( 217) -   LEU394 (348 ) (3) \n",
      "fragment      4 with    340 AAs     GLN1 ( 349) -   ASN340 (688 ) (4) \n",
      "fragment      5 with     58 AAs     ASN5 ( 689) -    ARG62 (746 ) (5) \n",
      "fragment      6 with    159 AAs  ASN1002 ( 747) -  ALA1160 (905 ) (6) \n",
      "fragment      7 with    146 AAs    GLU30 ( 906) -   ARG175 (1051) (7) \n",
      "fragment      8 with     61 AAs   GLN179 (1052) -   ARG239 (1112) (8) \n",
      "fragment      9 with     77 AAs   CYS265 (1113) -   CYS341 (1189) (9) \n",
      "fragment     10 with    128 AAs     GLN1 (1190) -   SER128 (1317) (10) \n",
      "fragment     11 with      1 AAs  P0G1601 (1318) -  P0G1601 (1318) (11) \n",
      "The GPCR-labels align best with fragments: [7, 8, 9] (first-last: GLU30-CYS341).\n",
      "\n",
      "MUOR\n",
      "Auto-detected fragments with method 'resSeq'\n",
      "fragment      0 with     51 AAs     LEU5 (   0) -    ILE55 (50  ) (0) \n",
      "fragment      1 with     52 AAs   THR182 (  51) -   VAL233 (102 ) (1) \n",
      "fragment      2 with    114 AAs   ASN241 ( 103) -   PHE354 (216 ) (2) \n",
      "fragment      3 with    336 AAs     ASP5 ( 217) -   ASN340 (552 ) (3) \n",
      "fragment      4 with     53 AAs     ILE9 ( 553) -    PHE61 (605 ) (4) \n",
      "fragment      5 with    281 AAs    MET65 ( 606) -   ARG345 (886 ) (5) \n",
      "fragment      6 with      5 AAs     TYR1 ( 887) -     ETA5 (891 ) (6) \n",
      "The GPCR-labels align best with fragments: [5] (first-last: MET65-ARG345).\n",
      "\n",
      "DOP\n",
      "Auto-detected fragments with method 'resSeq'\n",
      "fragment      0 with     53 AAs    ASP11 (   0) -    LEU63 (52  ) (0) \n",
      "fragment      1 with     51 AAs   THR205 (  53) -   MET255 (103 ) (1) \n",
      "fragment      2 with    132 AAs   THR263 ( 104) -   LEU394 (235 ) (2) \n",
      "fragment      3 with    340 AAs     GLY1 ( 236) -   ASN340 (575 ) (3) \n",
      "fragment      4 with     58 AAs     ASN5 ( 576) -    ARG62 (633 ) (4) \n",
      "fragment      5 with    128 AAs     GLN1 ( 634) -   SER128 (761 ) (5) \n",
      "fragment      6 with    146 AAs    PHE20 ( 762) -   LYS165 (907 ) (6) \n",
      "fragment      7 with     53 AAs   ASN185 ( 908) -   HIS237 (960 ) (7) \n",
      "fragment      8 with     36 AAs   SER263 ( 961) -   CYS298 (996 ) (8) \n",
      "fragment      9 with     38 AAs   CYS307 ( 997) -   LEU344 (1034) (9) \n",
      "fragment     10 with      2 AAs   G3C501 (1035) -   CLR502 (1036) (10) \n",
      "The GPCR-labels align best with fragments: [6, 7, 8, 9] (first-last: PHE20-LEU344).\n",
      "\n"
     ]
    }
   ],
   "source": [
    "pdb_just_receptor = {}\n",
    "for key, pdb  in pdbs.items():\n",
    "    print(key)\n",
    "    receptor_residue_idxs = mdciao.nomenclature.guess_by_nomenclature(maps[key], \n",
    "                                                               pdb.top, \n",
    "                                                               fragments=\"resSeq\",\n",
    "                                                               return_residue_idxs=True,\n",
    "                                                               accept_guess=True,\n",
    "                                                              return_str=False)\n",
    "    pdb_just_receptor[key] = mdciao.fragments.fragment_slice(pdb, [receptor_residue_idxs])\n",
    "    print()"
   ]
  },
  {
   "cell_type": "markdown",
   "id": "b565c561",
   "metadata": {},
   "source": [
    "# Receptors are not 3D Aligned\n",
    "This is a bit obvious because the come from different PDBs, but helps highlight the point"
   ]
  },
  {
   "cell_type": "code",
   "execution_count": 5,
   "id": "89bbf443",
   "metadata": {},
   "outputs": [
    {
     "data": {
      "application/vnd.jupyter.widget-view+json": {
       "model_id": "a17ea646d3de4bc6a312011a0ab3f5fa",
       "version_major": 2,
       "version_minor": 0
      },
      "text/plain": [
       "NGLWidget()"
      ]
     },
     "metadata": {},
     "output_type": "display_data"
    }
   ],
   "source": [
    "colors = {\"MUOR\":\"tab:red\", \n",
    "          \"OPS\":\"tab:blue\", \n",
    "          \"B2AR\":\"tab:green\",\n",
    "          \"DOP\": \"tab:orange\"}\n",
    "iwd = nglview.NGLWidget()\n",
    "for ii, (key, geom) in enumerate(pdb_just_receptor.items()):\n",
    "    iwd.add_trajectory(geom)\n",
    "    iwd.clear_representations(component=ii)\n",
    "    iwd.add_cartoon(color=matplotlib.colors.to_hex(colors[key]), component=ii)\n",
    "iwd"
   ]
  },
  {
   "cell_type": "markdown",
   "id": "6ced2bc0",
   "metadata": {},
   "source": [
    "# Use the Consensus Labels to generate an [AlignerConsensus](https://proteinformatics.uni-leipzig.de/mdciao/api/generated/generated/mdciao.nomenclature.AlignerConsensus.html#mdciao.nomenclature.AlignerConsensus) for MSA"
   ]
  },
  {
   "cell_type": "code",
   "execution_count": 6,
   "id": "77dce09d",
   "metadata": {},
   "outputs": [
    {
     "name": "stderr",
     "output_type": "stream",
     "text": [
      "/home/guille/Programs/mdciao/mdciao/nomenclature/nomenclature.py:2369: FutureWarning: Series.__getitem__ treating keys as positions is deprecated. In a future version, integer keys will always be treated as labels (consistent with DataFrame behavior). To access a value by position, use `ser.iloc[pos]`\n",
      "  labs_out = [subset[oo] for oo in order]\n"
     ]
    }
   ],
   "source": [
    "AC = mdciao.nomenclature.AlignerConsensus(maps,\n",
    "                                          tops={key : geom.top for key, geom in pdb_just_receptor.items()})"
   ]
  },
  {
   "cell_type": "markdown",
   "id": "7f429baa",
   "metadata": {},
   "source": [
    "# Sequence Identity within Residues with Consensus Labels"
   ]
  },
  {
   "cell_type": "code",
   "execution_count": 7,
   "id": "68a28310",
   "metadata": {},
   "outputs": [
    {
     "name": "stderr",
     "output_type": "stream",
     "text": [
      "/home/guille/Programs/mdciao/mdciao/nomenclature/nomenclature.py:1829: FutureWarning: DataFrame.applymap has been deprecated. Use DataFrame.map instead.\n",
      "  df = df.applymap(lambda x: \"%u%%\" % x)\n"
     ]
    },
    {
     "data": {
      "text/html": [
       "<div>\n",
       "<style scoped>\n",
       "    .dataframe tbody tr th:only-of-type {\n",
       "        vertical-align: middle;\n",
       "    }\n",
       "\n",
       "    .dataframe tbody tr th {\n",
       "        vertical-align: top;\n",
       "    }\n",
       "\n",
       "    .dataframe thead th {\n",
       "        text-align: right;\n",
       "    }\n",
       "</style>\n",
       "<table border=\"1\" class=\"dataframe\">\n",
       "  <thead>\n",
       "    <tr style=\"text-align: right;\">\n",
       "      <th></th>\n",
       "      <th>OPS</th>\n",
       "      <th>B2AR</th>\n",
       "      <th>MUOR</th>\n",
       "      <th>DOP</th>\n",
       "    </tr>\n",
       "  </thead>\n",
       "  <tbody>\n",
       "    <tr>\n",
       "      <th>OPS</th>\n",
       "      <td>100%</td>\n",
       "      <td>22%</td>\n",
       "      <td>24%</td>\n",
       "      <td>21%</td>\n",
       "    </tr>\n",
       "    <tr>\n",
       "      <th>B2AR</th>\n",
       "      <td>22%</td>\n",
       "      <td>100%</td>\n",
       "      <td>28%</td>\n",
       "      <td>42%</td>\n",
       "    </tr>\n",
       "    <tr>\n",
       "      <th>MUOR</th>\n",
       "      <td>24%</td>\n",
       "      <td>28%</td>\n",
       "      <td>100%</td>\n",
       "      <td>28%</td>\n",
       "    </tr>\n",
       "    <tr>\n",
       "      <th>DOP</th>\n",
       "      <td>21%</td>\n",
       "      <td>42%</td>\n",
       "      <td>28%</td>\n",
       "      <td>100%</td>\n",
       "    </tr>\n",
       "  </tbody>\n",
       "</table>\n",
       "</div>"
      ],
      "text/plain": [
       "       OPS  B2AR  MUOR   DOP\n",
       "OPS   100%   22%   24%   21%\n",
       "B2AR   22%  100%   28%   42%\n",
       "MUOR   24%   28%  100%   28%\n",
       "DOP    21%   42%   28%  100%"
      ]
     },
     "execution_count": 7,
     "metadata": {},
     "output_type": "execute_result"
    }
   ],
   "source": [
    "AC.sequence_match()"
   ]
  },
  {
   "cell_type": "markdown",
   "id": "191c1a82",
   "metadata": {},
   "source": [
    "# Pick a Reference Structure (e.g. Opsin) and 3D-align all Receptors on It\n",
    "We do this using the [CAidxs_match](https://proteinformatics.uni-leipzig.de/mdciao/api/generated/generated/mdciao.nomenclature.AlignerConsensus.html#mdciao.nomenclature.AlignerConsensus.CAidxs_match) method of the [AlignerConsensus](https://proteinformatics.uni-leipzig.de/mdciao/api/generated/generated/mdciao.nomenclature.AlignerConsensus.html#mdciao.nomenclature.AlignerConsensus) that will generate pairs of indices matching one another via their consensus labels. For brevity, here we show the example in the \"3.50...3.59\" region of TM3, but for the 3D alignment, we take all consensus labels"
   ]
  },
  {
   "cell_type": "code",
   "execution_count": 8,
   "id": "1de3a82f",
   "metadata": {},
   "outputs": [
    {
     "data": {
      "text/html": [
       "<div>\n",
       "<style scoped>\n",
       "    .dataframe tbody tr th:only-of-type {\n",
       "        vertical-align: middle;\n",
       "    }\n",
       "\n",
       "    .dataframe tbody tr th {\n",
       "        vertical-align: top;\n",
       "    }\n",
       "\n",
       "    .dataframe thead th {\n",
       "        text-align: right;\n",
       "    }\n",
       "</style>\n",
       "<table border=\"1\" class=\"dataframe\">\n",
       "  <thead>\n",
       "    <tr style=\"text-align: right;\">\n",
       "      <th></th>\n",
       "      <th>consensus</th>\n",
       "      <th>OPS</th>\n",
       "      <th>B2AR</th>\n",
       "    </tr>\n",
       "  </thead>\n",
       "  <tbody>\n",
       "    <tr>\n",
       "      <th>115</th>\n",
       "      <td>3.50x50</td>\n",
       "      <td>1065</td>\n",
       "      <td>746</td>\n",
       "    </tr>\n",
       "    <tr>\n",
       "      <th>116</th>\n",
       "      <td>3.51x51</td>\n",
       "      <td>1076</td>\n",
       "      <td>757</td>\n",
       "    </tr>\n",
       "    <tr>\n",
       "      <th>117</th>\n",
       "      <td>3.52x52</td>\n",
       "      <td>1088</td>\n",
       "      <td>769</td>\n",
       "    </tr>\n",
       "    <tr>\n",
       "      <th>118</th>\n",
       "      <td>3.53x53</td>\n",
       "      <td>1095</td>\n",
       "      <td>780</td>\n",
       "    </tr>\n",
       "    <tr>\n",
       "      <th>119</th>\n",
       "      <td>3.54x54</td>\n",
       "      <td>1102</td>\n",
       "      <td>785</td>\n",
       "    </tr>\n",
       "    <tr>\n",
       "      <th>120</th>\n",
       "      <td>3.55x55</td>\n",
       "      <td>1109</td>\n",
       "      <td>793</td>\n",
       "    </tr>\n",
       "    <tr>\n",
       "      <th>121</th>\n",
       "      <td>3.56x56</td>\n",
       "      <td>1115</td>\n",
       "      <td>800</td>\n",
       "    </tr>\n",
       "  </tbody>\n",
       "</table>\n",
       "</div>"
      ],
      "text/plain": [
       "    consensus   OPS  B2AR\n",
       "115   3.50x50  1065   746\n",
       "116   3.51x51  1076   757\n",
       "117   3.52x52  1088   769\n",
       "118   3.53x53  1095   780\n",
       "119   3.54x54  1102   785\n",
       "120   3.55x55  1109   793\n",
       "121   3.56x56  1115   800"
      ]
     },
     "execution_count": 8,
     "metadata": {},
     "output_type": "execute_result"
    }
   ],
   "source": [
    "AC.CAidxs_match(\"3.5*\", keys=[\"OPS\",\"B2AR\"])"
   ]
  },
  {
   "cell_type": "code",
   "execution_count": 9,
   "id": "76638fb1",
   "metadata": {},
   "outputs": [],
   "source": [
    "ref_key = \"OPS\"\n",
    "ref_geom = pdb_just_receptor[ref_key]\n",
    "for key, geom in pdb_just_receptor.items():\n",
    "     if key!=ref_key:\n",
    "        ref_CAs, key_CAs = AC.CAidxs_match(keys=[ref_key, key])[[ref_key, key]].values.T\n",
    "        geom.superpose(ref_geom, atom_indices=key_CAs, ref_atom_indices=ref_CAs)\n"
   ]
  },
  {
   "cell_type": "markdown",
   "id": "710a6c84-a8da-4f6d-b27b-bc074ac85562",
   "metadata": {},
   "source": [
    "# Receptors are now 3D-aligned"
   ]
  },
  {
   "cell_type": "code",
   "execution_count": 10,
   "id": "da01597f-8b39-4eac-bc37-18414e708983",
   "metadata": {},
   "outputs": [
    {
     "data": {
      "application/vnd.jupyter.widget-view+json": {
       "model_id": "e726cbd49fc8416898c9bdb902042d3c",
       "version_major": 2,
       "version_minor": 0
      },
      "text/plain": [
       "NGLWidget()"
      ]
     },
     "metadata": {},
     "output_type": "display_data"
    }
   ],
   "source": [
    "iwd = nglview.NGLWidget()\n",
    "for ii, (key, geom) in enumerate(pdb_just_receptor.items()):\n",
    "    iwd.add_trajectory(geom)\n",
    "    iwd.clear_representations(component=ii)\n",
    "    iwd.add_cartoon(color=matplotlib.colors.to_hex(colors[key]), component=ii)\n",
    "iwd"
   ]
  }
 ],
 "metadata": {
  "kernelspec": {
   "display_name": "Python 3 (ipykernel)",
   "language": "python",
   "name": "python3"
  },
  "language_info": {
   "codemirror_mode": {
    "name": "ipython",
    "version": 3
   },
   "file_extension": ".py",
   "mimetype": "text/x-python",
   "name": "python",
   "nbconvert_exporter": "python",
   "pygments_lexer": "ipython3",
   "version": "3.11.9"
  }
 },
 "nbformat": 4,
 "nbformat_minor": 5
}
